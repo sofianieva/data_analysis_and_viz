{
 "cells": [
  {
   "cell_type": "markdown",
   "metadata": {
    "id": "LYvAOR2VzHmW"
   },
   "source": [
    "\n",
    "**Diplomatura en Ciencia de Datos, Aprendizaje Automático y sus Aplicaciones**\n",
    "\n",
    "**Edición 2021**\n",
    "\n",
    "---\n",
    "\n",
    "# Trabajo práctico entregable - Parte 2"
   ]
  },
  {
   "cell_type": "code",
   "execution_count": null,
   "metadata": {
    "id": "Xwdfo7z20TUK"
   },
   "outputs": [],
   "source": [
    "import io\n",
    "import matplotlib\n",
    "import matplotlib.pyplot as plt\n",
    "import numpy as np\n",
    "import pandas as pd\n",
    "import seaborn as sns\n",
    "import scipy.stats as st\n",
    "\n",
    "sns.set_context('talk')"
   ]
  },
  {
   "cell_type": "markdown",
   "metadata": {
    "id": "XY2Hl-Ma07Nn"
   },
   "source": [
    "## Lectura del dataset\n",
    "\n",
    "En la notebook 00 se explican los detalles de la siguiente sección."
   ]
  },
  {
   "cell_type": "code",
   "execution_count": null,
   "metadata": {
    "id": "Vviv_sqXdR5W"
   },
   "outputs": [],
   "source": [
    "url = 'https://cs.famaf.unc.edu.ar/~mteruel/datasets/diplodatos/sysarmy_survey_2020_processed.csv'\n",
    "df = pd.read_csv(url)"
   ]
  },
  {
   "cell_type": "code",
   "execution_count": null,
   "metadata": {
    "colab": {
     "base_uri": "https://localhost:8080/",
     "height": 295
    },
    "id": "gckNHXXLktJ4",
    "outputId": "9bc0c250-f79f-44e1-f3e5-20f72595c3a7"
   },
   "outputs": [
    {
     "data": {
      "text/html": [
       "<div>\n",
       "<style scoped>\n",
       "    .dataframe tbody tr th:only-of-type {\n",
       "        vertical-align: middle;\n",
       "    }\n",
       "\n",
       "    .dataframe tbody tr th {\n",
       "        vertical-align: top;\n",
       "    }\n",
       "\n",
       "    .dataframe thead th {\n",
       "        text-align: right;\n",
       "    }\n",
       "</style>\n",
       "<table border=\"1\" class=\"dataframe\">\n",
       "  <thead>\n",
       "    <tr style=\"text-align: right;\">\n",
       "      <th></th>\n",
       "      <th>profile_gender</th>\n",
       "      <th>profile_age</th>\n",
       "      <th>work_country</th>\n",
       "      <th>work_province</th>\n",
       "      <th>profile_years_experience</th>\n",
       "      <th>work_years_in_company</th>\n",
       "      <th>work_years_in_current_position</th>\n",
       "      <th>work_people_in_charge_of</th>\n",
       "      <th>profile_studies_level</th>\n",
       "      <th>profile_studies_level_state</th>\n",
       "      <th>profile_career</th>\n",
       "      <th>profile_university</th>\n",
       "      <th>profile_specialization_courses</th>\n",
       "      <th>profile_open_source_contributions</th>\n",
       "      <th>profile_programming_as_hobby</th>\n",
       "      <th>work_role</th>\n",
       "      <th>tools_platform</th>\n",
       "      <th>tools_programming_languages</th>\n",
       "      <th>tools_frameworks</th>\n",
       "      <th>tools_data_bases</th>\n",
       "      <th>tools_qa_testing</th>\n",
       "      <th>tools_IDEs</th>\n",
       "      <th>tools_work_pc_os</th>\n",
       "      <th>tools_cellphone_os</th>\n",
       "      <th>work_on_call_duty</th>\n",
       "      <th>salary_on_call_duty_charge</th>\n",
       "      <th>work_on_call_duty_charge_type</th>\n",
       "      <th>work_contract_type</th>\n",
       "      <th>salary_monthly_BRUTO</th>\n",
       "      <th>salary_monthly_NETO</th>\n",
       "      <th>salary_in_usd</th>\n",
       "      <th>salary_satisfaction</th>\n",
       "      <th>salary_comparison_last_semester</th>\n",
       "      <th>salary_has_bonus</th>\n",
       "      <th>salary_bonus_tied_to</th>\n",
       "      <th>salary_inflation_adjustment_2020</th>\n",
       "      <th>salary_percentage_inflation_adjustment_2020</th>\n",
       "      <th>salary_month_last_inflation_adjustment</th>\n",
       "      <th>work_has_violence_situations</th>\n",
       "      <th>profile_sexual_orientation</th>\n",
       "      <th>profile_has_disabilities</th>\n",
       "      <th>profile_has_disabilities_hiring_difficulties</th>\n",
       "      <th>company_employee_number</th>\n",
       "      <th>company_main_activity</th>\n",
       "      <th>company_recommended</th>\n",
       "      <th>company_diversity_policies</th>\n",
       "      <th>company_extra_benefits</th>\n",
       "      <th>company_best_companies_city</th>\n",
       "    </tr>\n",
       "  </thead>\n",
       "  <tbody>\n",
       "    <tr>\n",
       "      <th>0</th>\n",
       "      <td>Mujer</td>\n",
       "      <td>26</td>\n",
       "      <td>Argentina</td>\n",
       "      <td>Ciudad Autónoma de Buenos Aires</td>\n",
       "      <td>3.0</td>\n",
       "      <td>3.0</td>\n",
       "      <td>3.0</td>\n",
       "      <td>0</td>\n",
       "      <td>Universitario</td>\n",
       "      <td>En curso</td>\n",
       "      <td>Ingeniería en Sistemas de Información</td>\n",
       "      <td>UTN - Universidad Tecnológica Nacional</td>\n",
       "      <td>Sí, los pagó un empleador</td>\n",
       "      <td>No</td>\n",
       "      <td>Sí</td>\n",
       "      <td>Consultant</td>\n",
       "      <td>Ninguna</td>\n",
       "      <td>Ninguno</td>\n",
       "      <td>Ninguno</td>\n",
       "      <td>Ninguna</td>\n",
       "      <td>Ninguna</td>\n",
       "      <td>Ninguno</td>\n",
       "      <td>GNU/Linux</td>\n",
       "      <td>Android</td>\n",
       "      <td>No</td>\n",
       "      <td>0.0</td>\n",
       "      <td>Bruto</td>\n",
       "      <td>Full-Time</td>\n",
       "      <td>53000.0</td>\n",
       "      <td>43000.0</td>\n",
       "      <td>NaN</td>\n",
       "      <td>1</td>\n",
       "      <td>1</td>\n",
       "      <td>No</td>\n",
       "      <td>No recibo bono</td>\n",
       "      <td>No</td>\n",
       "      <td>0.0</td>\n",
       "      <td>0</td>\n",
       "      <td>En mi trabajo actual</td>\n",
       "      <td>Homosexual</td>\n",
       "      <td>NaN</td>\n",
       "      <td>NaN</td>\n",
       "      <td>501-1000</td>\n",
       "      <td>Servicios / Consultoría de Software / Digital</td>\n",
       "      <td>7</td>\n",
       "      <td>2</td>\n",
       "      <td>Capacitaciones y/o cursos, Comidas pagas / sub...</td>\n",
       "      <td>NaN</td>\n",
       "    </tr>\n",
       "    <tr>\n",
       "      <th>1</th>\n",
       "      <td>Hombre</td>\n",
       "      <td>29</td>\n",
       "      <td>Argentina</td>\n",
       "      <td>Corrientes</td>\n",
       "      <td>5.0</td>\n",
       "      <td>2.0</td>\n",
       "      <td>2.0</td>\n",
       "      <td>4</td>\n",
       "      <td>Universitario</td>\n",
       "      <td>En curso</td>\n",
       "      <td>Ingeniería en Sistemas de Información</td>\n",
       "      <td>UTN - Universidad Tecnológica Nacional</td>\n",
       "      <td>Sí, de forma particular, Sí, los pagó un emple...</td>\n",
       "      <td>No</td>\n",
       "      <td>Sí</td>\n",
       "      <td>Developer</td>\n",
       "      <td>Docker, Google Cloud Platform/App Engine</td>\n",
       "      <td>HTML, Javascript, Python</td>\n",
       "      <td>Django, jQuery</td>\n",
       "      <td>Informix, MySQL, PostgreSQL</td>\n",
       "      <td>Ninguna</td>\n",
       "      <td>IPython / Jupyter, Sublime Text, Visual Studio...</td>\n",
       "      <td>GNU/Linux</td>\n",
       "      <td>Android</td>\n",
       "      <td>No</td>\n",
       "      <td>0.0</td>\n",
       "      <td>Bruto</td>\n",
       "      <td>Full-Time</td>\n",
       "      <td>79000.0</td>\n",
       "      <td>63000.0</td>\n",
       "      <td>NaN</td>\n",
       "      <td>2</td>\n",
       "      <td>2</td>\n",
       "      <td>Menos de un sueldo</td>\n",
       "      <td>Performance de la compañía</td>\n",
       "      <td>Uno</td>\n",
       "      <td>10.0</td>\n",
       "      <td>1</td>\n",
       "      <td>Jamás</td>\n",
       "      <td>Heterosexual</td>\n",
       "      <td>Visual</td>\n",
       "      <td>No</td>\n",
       "      <td>201-500</td>\n",
       "      <td>Otras industrias</td>\n",
       "      <td>8</td>\n",
       "      <td>9</td>\n",
       "      <td>Horarios flexibles, Stock options / RSUs, Viát...</td>\n",
       "      <td>NaN</td>\n",
       "    </tr>\n",
       "    <tr>\n",
       "      <th>2</th>\n",
       "      <td>Mujer</td>\n",
       "      <td>22</td>\n",
       "      <td>Argentina</td>\n",
       "      <td>Ciudad Autónoma de Buenos Aires</td>\n",
       "      <td>2.0</td>\n",
       "      <td>0.0</td>\n",
       "      <td>0.0</td>\n",
       "      <td>0</td>\n",
       "      <td>Secundario</td>\n",
       "      <td>Completado</td>\n",
       "      <td>NaN</td>\n",
       "      <td>NaN</td>\n",
       "      <td>Sí, de forma particular, Sí, los pagó un emple...</td>\n",
       "      <td>No</td>\n",
       "      <td>Sí</td>\n",
       "      <td>Infosec</td>\n",
       "      <td>Linux, VMWare</td>\n",
       "      <td>Ninguno</td>\n",
       "      <td>Ninguno</td>\n",
       "      <td>Ninguna</td>\n",
       "      <td>Ninguna</td>\n",
       "      <td>Ninguno</td>\n",
       "      <td>Windows</td>\n",
       "      <td>iOS</td>\n",
       "      <td>No</td>\n",
       "      <td>0.0</td>\n",
       "      <td>Porcentaje de mi sueldo</td>\n",
       "      <td>Full-Time</td>\n",
       "      <td>160000.0</td>\n",
       "      <td>127000.0</td>\n",
       "      <td>NaN</td>\n",
       "      <td>3</td>\n",
       "      <td>3</td>\n",
       "      <td>Un sueldo</td>\n",
       "      <td>Performance individual</td>\n",
       "      <td>No</td>\n",
       "      <td>0.0</td>\n",
       "      <td>0</td>\n",
       "      <td>En un trabajo anterior</td>\n",
       "      <td>Bisexual o queer</td>\n",
       "      <td>NaN</td>\n",
       "      <td>No</td>\n",
       "      <td>2001-5000</td>\n",
       "      <td>Otras industrias</td>\n",
       "      <td>6</td>\n",
       "      <td>9</td>\n",
       "      <td>Clases de gimnasia online, Comidas pagas / sub...</td>\n",
       "      <td>NaN</td>\n",
       "    </tr>\n",
       "  </tbody>\n",
       "</table>\n",
       "</div>"
      ],
      "text/plain": [
       "  profile_gender  ...  company_best_companies_city\n",
       "0          Mujer  ...                          NaN\n",
       "1         Hombre  ...                          NaN\n",
       "2          Mujer  ...                          NaN\n",
       "\n",
       "[3 rows x 48 columns]"
      ]
     },
     "execution_count": 3,
     "metadata": {
      "tags": []
     },
     "output_type": "execute_result"
    }
   ],
   "source": [
    "df[:3]"
   ]
  },
  {
   "cell_type": "code",
   "execution_count": null,
   "metadata": {
    "colab": {
     "base_uri": "https://localhost:8080/",
     "height": 199
    },
    "id": "2lzmzK1NuPNT",
    "outputId": "6a5e4a1d-4a4a-454c-b9b6-9e03a881fff4"
   },
   "outputs": [
    {
     "data": {
      "text/html": [
       "<div>\n",
       "<style scoped>\n",
       "    .dataframe tbody tr th:only-of-type {\n",
       "        vertical-align: middle;\n",
       "    }\n",
       "\n",
       "    .dataframe tbody tr th {\n",
       "        vertical-align: top;\n",
       "    }\n",
       "\n",
       "    .dataframe thead tr th {\n",
       "        text-align: left;\n",
       "    }\n",
       "\n",
       "    .dataframe thead tr:last-of-type th {\n",
       "        text-align: right;\n",
       "    }\n",
       "</style>\n",
       "<table border=\"1\" class=\"dataframe\">\n",
       "  <thead>\n",
       "    <tr>\n",
       "      <th></th>\n",
       "      <th colspan=\"8\" halign=\"left\">salary_monthly_NETO</th>\n",
       "    </tr>\n",
       "    <tr>\n",
       "      <th></th>\n",
       "      <th>count</th>\n",
       "      <th>mean</th>\n",
       "      <th>std</th>\n",
       "      <th>min</th>\n",
       "      <th>25%</th>\n",
       "      <th>50%</th>\n",
       "      <th>75%</th>\n",
       "      <th>max</th>\n",
       "    </tr>\n",
       "    <tr>\n",
       "      <th>profile_gender</th>\n",
       "      <th></th>\n",
       "      <th></th>\n",
       "      <th></th>\n",
       "      <th></th>\n",
       "      <th></th>\n",
       "      <th></th>\n",
       "      <th></th>\n",
       "      <th></th>\n",
       "    </tr>\n",
       "  </thead>\n",
       "  <tbody>\n",
       "    <tr>\n",
       "      <th>Hombre</th>\n",
       "      <td>4944.0</td>\n",
       "      <td>98836.063558</td>\n",
       "      <td>102159.664237</td>\n",
       "      <td>1.0</td>\n",
       "      <td>53285.0</td>\n",
       "      <td>80000.0</td>\n",
       "      <td>110000.0</td>\n",
       "      <td>2080000.0</td>\n",
       "    </tr>\n",
       "    <tr>\n",
       "      <th>Mujer</th>\n",
       "      <td>908.0</td>\n",
       "      <td>73501.414465</td>\n",
       "      <td>56256.880181</td>\n",
       "      <td>2.0</td>\n",
       "      <td>43818.0</td>\n",
       "      <td>65000.0</td>\n",
       "      <td>92000.0</td>\n",
       "      <td>800000.0</td>\n",
       "    </tr>\n",
       "    <tr>\n",
       "      <th>Otros</th>\n",
       "      <td>31.0</td>\n",
       "      <td>95441.354839</td>\n",
       "      <td>88635.674358</td>\n",
       "      <td>40.0</td>\n",
       "      <td>39500.0</td>\n",
       "      <td>74000.0</td>\n",
       "      <td>117500.0</td>\n",
       "      <td>380000.0</td>\n",
       "    </tr>\n",
       "  </tbody>\n",
       "</table>\n",
       "</div>"
      ],
      "text/plain": [
       "               salary_monthly_NETO                ...                     \n",
       "                             count          mean  ...       75%        max\n",
       "profile_gender                                    ...                     \n",
       "Hombre                      4944.0  98836.063558  ...  110000.0  2080000.0\n",
       "Mujer                        908.0  73501.414465  ...   92000.0   800000.0\n",
       "Otros                         31.0  95441.354839  ...  117500.0   380000.0\n",
       "\n",
       "[3 rows x 8 columns]"
      ]
     },
     "execution_count": 4,
     "metadata": {
      "tags": []
     },
     "output_type": "execute_result"
    }
   ],
   "source": [
    "df[['profile_gender', 'salary_monthly_NETO']].groupby('profile_gender').describe()"
   ]
  },
  {
   "cell_type": "code",
   "execution_count": null,
   "metadata": {
    "colab": {
     "base_uri": "https://localhost:8080/",
     "height": 199
    },
    "id": "pycKJ5jWkShW",
    "outputId": "66eb809e-248f-421b-c942-caee5644704d"
   },
   "outputs": [
    {
     "data": {
      "text/html": [
       "<div>\n",
       "<style scoped>\n",
       "    .dataframe tbody tr th:only-of-type {\n",
       "        vertical-align: middle;\n",
       "    }\n",
       "\n",
       "    .dataframe tbody tr th {\n",
       "        vertical-align: top;\n",
       "    }\n",
       "\n",
       "    .dataframe thead tr th {\n",
       "        text-align: left;\n",
       "    }\n",
       "\n",
       "    .dataframe thead tr:last-of-type th {\n",
       "        text-align: right;\n",
       "    }\n",
       "</style>\n",
       "<table border=\"1\" class=\"dataframe\">\n",
       "  <thead>\n",
       "    <tr>\n",
       "      <th></th>\n",
       "      <th colspan=\"8\" halign=\"left\">salary_monthly_NETO</th>\n",
       "    </tr>\n",
       "    <tr>\n",
       "      <th></th>\n",
       "      <th>count</th>\n",
       "      <th>mean</th>\n",
       "      <th>std</th>\n",
       "      <th>min</th>\n",
       "      <th>25%</th>\n",
       "      <th>50%</th>\n",
       "      <th>75%</th>\n",
       "      <th>max</th>\n",
       "    </tr>\n",
       "    <tr>\n",
       "      <th>profile_gender</th>\n",
       "      <th></th>\n",
       "      <th></th>\n",
       "      <th></th>\n",
       "      <th></th>\n",
       "      <th></th>\n",
       "      <th></th>\n",
       "      <th></th>\n",
       "      <th></th>\n",
       "    </tr>\n",
       "  </thead>\n",
       "  <tbody>\n",
       "    <tr>\n",
       "      <th>Hombre</th>\n",
       "      <td>4815.0</td>\n",
       "      <td>101481.624343</td>\n",
       "      <td>102215.304684</td>\n",
       "      <td>1100.0</td>\n",
       "      <td>55000.0</td>\n",
       "      <td>80000.0</td>\n",
       "      <td>110000.0</td>\n",
       "      <td>2080000.0</td>\n",
       "    </tr>\n",
       "    <tr>\n",
       "      <th>Mujer</th>\n",
       "      <td>863.0</td>\n",
       "      <td>77328.913778</td>\n",
       "      <td>55082.760570</td>\n",
       "      <td>2000.0</td>\n",
       "      <td>47850.0</td>\n",
       "      <td>67200.0</td>\n",
       "      <td>93000.0</td>\n",
       "      <td>800000.0</td>\n",
       "    </tr>\n",
       "    <tr>\n",
       "      <th>Otros</th>\n",
       "      <td>28.0</td>\n",
       "      <td>105660.714286</td>\n",
       "      <td>87235.710235</td>\n",
       "      <td>34000.0</td>\n",
       "      <td>43750.0</td>\n",
       "      <td>78900.0</td>\n",
       "      <td>122750.0</td>\n",
       "      <td>380000.0</td>\n",
       "    </tr>\n",
       "  </tbody>\n",
       "</table>\n",
       "</div>"
      ],
      "text/plain": [
       "               salary_monthly_NETO                 ...                     \n",
       "                             count           mean  ...       75%        max\n",
       "profile_gender                                     ...                     \n",
       "Hombre                      4815.0  101481.624343  ...  110000.0  2080000.0\n",
       "Mujer                        863.0   77328.913778  ...   93000.0   800000.0\n",
       "Otros                         28.0  105660.714286  ...  122750.0   380000.0\n",
       "\n",
       "[3 rows x 8 columns]"
      ]
     },
     "execution_count": 5,
     "metadata": {
      "tags": []
     },
     "output_type": "execute_result"
    }
   ],
   "source": [
    "df[df.salary_monthly_NETO > 1000]\\\n",
    "  [['profile_gender', 'salary_monthly_NETO']].groupby('profile_gender').describe()"
   ]
  },
  {
   "cell_type": "code",
   "execution_count": null,
   "metadata": {
    "id": "3nF-cWZg1s9q"
   },
   "outputs": [],
   "source": []
  },
  {
   "cell_type": "code",
   "execution_count": null,
   "metadata": {
    "id": "uZ1GxkLylHx0"
   },
   "outputs": [],
   "source": [
    "alpha = 0.05"
   ]
  },
  {
   "cell_type": "code",
   "execution_count": null,
   "metadata": {
    "id": "OfzFpDO-lYxk"
   },
   "outputs": [],
   "source": [
    "is_man = df.profile_gender == 'Hombre'\n",
    "\n",
    "groupA = df[(df.salary_monthly_NETO > 1000) & is_man].salary_monthly_NETO\n",
    "groupB = df[(df.salary_monthly_NETO > 1000) & ~is_man].salary_monthly_NETO"
   ]
  },
  {
   "cell_type": "markdown",
   "metadata": {
    "id": "co_0M_ojtmUh"
   },
   "source": [
    "## Ejercicio 1: Estimación\n",
    "\n",
    "**Consigna:**  Calcular una estimación puntual y un intervalo de confianza de nivel (1-alpha) para la resta entre la media del salario Neto para Hombres menos la media del salario Neto para otros géneros(diferencia de las medias entre el grupoA y grupoB). \n",
    "¿Cómo se relaciona este intervalo de confianza con el test de hipótesis?"
   ]
  },
  {
   "cell_type": "markdown",
   "metadata": {
    "id": "WCeMiD-4hppr"
   },
   "source": [
    "${\\overline{X_A}}: $ Estadístico media muestral del grupo A (hombres)  \n",
    "${\\overline{X_B}}: $ Estadístico media muestral del grupo B (mujeres y otros)  \n",
    "\n",
    "$u_A: $ Media poblacional del grupo A (hombres)  \n",
    "$u_B: $ Media poblacional del grupo B (mujeres y otros)\n",
    "\n",
    "El estadístico que me sirve para hacer una estimacion puntual de la resta entre las medias de salario de los dos grupos ($u_A - u_B$) es simplemente ${\\overline{X_A}-\\overline{X_B}}$ pues hacer el promedio es un buen estimador de la media poblacional (ya que por la Ley Fuerte de los Grandes Numeros tiende en probabilidad a ésta). Evaluando en nuestro datos obtenemos que una estimación de la diferencia de medias es: 23262.37.\n",
    "\n",
    "Para calcular un intervalo de confianza, como el tamaño de la muestra es bastante grande ($n_A = 4815\\ y\\ n_B = 891$) la distribucion del estadistico pivote : ${  \\overline{X_A} -\\overline{X_B} - (u_A-u_B) \\over \\sqrt{{s_A^2\\over n_A} + {s_B^2\\over n_B}}} $ es aproximadamente $N(0,1)$. Por lo tanto, el intervalo de confianza de nivel 1-$\\alpha$ para la diferencia de medias será: $[{ \\overline{X_A} -\\overline{X_B} - z_{\\alpha /2} * \\sqrt{{s_A^2\\over n_A} + {s_B^2\\over n_B}},  \\overline{X_A} -\\overline{X_B} + z_{\\alpha /2} * \\sqrt{{s_A^2\\over n_A} + {s_B^2\\over n_B}}}]$ . Con nuestra muestra de datos obtenemos el intervalo [18560.67, 27964.08]. \n",
    "\n",
    "¿Cómo se relaciona esto con el test de hipótesis?\n",
    "Me sirven para sacar diferentes conclusiones. Con el intervalo de confianza obtengo un intervalo que contiene al verdadero valor del del parametro con probabilidad del (1 - $\\alpha$)% mientras que del test obtengo evidencia para rechazar o no la hipotesis nula con un cierto nivel de significancia. Sin embargo, estan muy relacionados. En el test de hipotesis bilateral ($H_0: u_A -u_B = 0$  vs.  $H_a: u_A -u_B \\neq 0$ ) por ejemplo, la región de aceptacion es el intervalo alrededor de 0 [$-z_{\\alpha /2}, z_{\\alpha /2}$], que es como el intervalo de confianza \"normalizado\" ya que si lo multiplicamos por la varianza muestral y le sumamos la media muestral obtenemos el intervalo que obtuvimos antes $[{ \\overline{x_A} -\\overline{x_B} - z_{\\alpha /2} * \\sqrt{{s_A^2\\over n_A} + {s_B^2\\over n_B}},  \\overline{x_A} -\\overline{x_B} + z_{\\alpha /2} * \\sqrt{{s_A^2\\over n_A} + {s_B^2\\over n_B}}}] = [18560.67, 27964.08]$. O sea que caer fuera de la region de aceptación sería equivalente a que el intervalo de confianza no contenga al 0: $z_{obs} = {\\overline{x_A} -\\overline{x_B} \\over \\sqrt{{s_A^2\\over n_A} + {s_B^2\\over n_B}}} \\notin [-z_{\\alpha /2}, z_{\\alpha /2}] \\Leftrightarrow \\overline{x_A} -\\overline{x_B} \\notin [-z_{\\alpha /2}*\\sqrt{{s_A^2\\over n_A} + {s_B^2\\over n_B}}, z_{\\alpha /2}*\\sqrt{{s_A^2\\over n_A} + {s_B^2\\over n_B}}] \\Leftrightarrow |\\overline{x_A} -\\overline{x_B}| > z_{\\alpha /2}*\\sqrt{{s_A^2\\over n_A} + {s_B^2\\over n_B}} \\Leftrightarrow |\\overline{x_A} -\\overline{x_B}| - z_{\\alpha /2}*\\sqrt{{s_A^2\\over n_A} + {s_B^2\\over n_B}} > 0 \\Leftrightarrow \\overline{x_A} -\\overline{x_B} - z_{\\alpha /2}*\\sqrt{{s_A^2\\over n_A} + {s_B^2\\over n_B}} > 0 \\vee -\\overline{x_B} +\\overline{x_A} + z_{\\alpha /2}*\\sqrt{{s_A^2\\over n_A} + {s_B^2\\over n_B}} < 0 \\Leftrightarrow 0 \\notin [{ \\overline{x_A} -\\overline{x_B} - z_{\\alpha /2} * \\sqrt{{s_A^2\\over n_A} + {s_B^2\\over n_B}},  \\overline{x_A} -\\overline{x_B} + z_{\\alpha /2} * \\sqrt{{s_A^2\\over n_A} + {s_B^2\\over n_B}}}]$\n",
    "\n"
   ]
  },
  {
   "cell_type": "code",
   "execution_count": null,
   "metadata": {
    "id": "gYlCPWULc3cB"
   },
   "outputs": [],
   "source": [
    "def ic_diff_means(x1, x2):\n",
    "    \n",
    "    n1 = x1.size \n",
    "    n2 = x2.size\n",
    "    m1 = np.mean(x1) # x1\n",
    "    m2 = np.mean(x2) # x2\n",
    "    \n",
    "    v1 = x1.var() # s1\n",
    "    v2 = x2.var() # s2\n",
    "    \n",
    "    pooled_se = np.sqrt(v1 / n1 + v2 / n2)\n",
    "    delta = m1-m2\n",
    "    \n",
    "    # IC: upper and lower bounds\n",
    "    z = st.norm.ppf(0.975)\n",
    "    lb = delta - z*pooled_se \n",
    "    ub = delta + z*pooled_se\n",
    "  \n",
    "    return pd.DataFrame(np.array([delta,lb,ub]).reshape(1,-1),\n",
    "                         columns=['Difference in mean','lb','ub'])"
   ]
  },
  {
   "cell_type": "code",
   "execution_count": null,
   "metadata": {
    "colab": {
     "base_uri": "https://localhost:8080/",
     "height": 78
    },
    "id": "Sw3kGXoceXj4",
    "outputId": "17ee11e2-e144-4dde-a1d8-0b5c824756ca"
   },
   "outputs": [
    {
     "data": {
      "text/html": [
       "<div>\n",
       "<style scoped>\n",
       "    .dataframe tbody tr th:only-of-type {\n",
       "        vertical-align: middle;\n",
       "    }\n",
       "\n",
       "    .dataframe tbody tr th {\n",
       "        vertical-align: top;\n",
       "    }\n",
       "\n",
       "    .dataframe thead th {\n",
       "        text-align: right;\n",
       "    }\n",
       "</style>\n",
       "<table border=\"1\" class=\"dataframe\">\n",
       "  <thead>\n",
       "    <tr style=\"text-align: right;\">\n",
       "      <th></th>\n",
       "      <th>Difference in mean</th>\n",
       "      <th>lb</th>\n",
       "      <th>ub</th>\n",
       "    </tr>\n",
       "  </thead>\n",
       "  <tbody>\n",
       "    <tr>\n",
       "      <th>0</th>\n",
       "      <td>23262.3734</td>\n",
       "      <td>18560.667138</td>\n",
       "      <td>27964.079661</td>\n",
       "    </tr>\n",
       "  </tbody>\n",
       "</table>\n",
       "</div>"
      ],
      "text/plain": [
       "   Difference in mean            lb            ub\n",
       "0          23262.3734  18560.667138  27964.079661"
      ]
     },
     "execution_count": 25,
     "metadata": {
      "tags": []
     },
     "output_type": "execute_result"
    }
   ],
   "source": [
    "ic_diff_means(groupA, groupB)"
   ]
  },
  {
   "cell_type": "markdown",
   "metadata": {
    "id": "IFi2T7Y6nM92"
   },
   "source": [
    "## Ejercicio 2: Test de hipótesis\n"
   ]
  },
  {
   "cell_type": "markdown",
   "metadata": {
    "id": "Rzxe8UYU6EfJ"
   },
   "source": [
    "\n",
    "### 2.1 Formalización\n",
    "\n",
    "Describir formalmente los distintos compenentes de un test de hipótesis para comprobar si la distribución de los salarios es distinta entre los grupos A y B.\n",
    "\n",
    "**Hipótesis**\n",
    "\n",
    "$H_0: u_A -u_B = 0$ \n",
    "\n",
    "$H_a: u_A -u_B > 0$ \n",
    "\n",
    "\n",
    "**Estadístico (Pivote)**\n",
    "  * Identificar el estadístico:\n",
    "    $z_0 = {  \\overline{X_A} -\\overline{X_B} \\over \\sqrt{{s_A^2\\over n_A} + {s_B^2\\over n_B}}} $ \n",
    "  * Escribir qué distribución tiene bajo $H_0$\n",
    "  * El estadistico  $z_0$ bajo hipotesis nula $H_0$ tiene distribucion normal $\\sim N(0,1)$\n",
    "\n"
   ]
  },
  {
   "cell_type": "code",
   "execution_count": null,
   "metadata": {
    "id": "GPRkPkscgF6p"
   },
   "outputs": [],
   "source": [
    "def test(x1, x2):\n",
    "    \n",
    "    n1 = x1.size \n",
    "    n2 = x2.size\n",
    "    m1 = np.mean(x1) # x1\n",
    "    m2 = np.mean(x2) # x2\n",
    "    \n",
    "    v1 = x1.var() # s1\n",
    "    v2 = x2.var() # s2\n",
    "    \n",
    "    pooled_se = np.sqrt(v1 / n1 + v2 / n2)\n",
    "    delta = m1-m2\n",
    "    \n",
    "    stat = delta /  pooled_se\n",
    "    \n",
    "    # P-Value one side test\n",
    "    p = st.norm.cdf(-stat)\n",
    "  \n",
    "    return stat, p"
   ]
  },
  {
   "cell_type": "code",
   "execution_count": null,
   "metadata": {
    "colab": {
     "base_uri": "https://localhost:8080/"
    },
    "id": "5d7VTu9dTvTi",
    "outputId": "f0a9bdba-007c-458d-8a6f-fcae65febdc2"
   },
   "outputs": [
    {
     "name": "stdout",
     "output_type": "stream",
     "text": [
      "z_obs = 9.697205976350695\n",
      "z_alpha = 1.6448536269514722\n",
      "Como z_obs > z_alpha, rechazo H_0\n"
     ]
    }
   ],
   "source": [
    "# H_0: x - y = 0\n",
    "# H_1: x - y > 0  - Seria que el promedio de salario de los hombres es mayor que el de mujeres y otros\n",
    "\n",
    "stat, p= test(groupA, groupB)\n",
    "alpha = 0.05\n",
    "\n",
    "z_obs = stat\n",
    "print('z_obs =', z_obs)\n",
    "z_alpha = st.norm.ppf(1 - alpha)\n",
    "print('z_alpha =', z_alpha)\n",
    "print('Como z_obs > z_alpha, rechazo H_0')"
   ]
  },
  {
   "cell_type": "markdown",
   "metadata": {
    "id": "3Ip_5YdenC8u"
   },
   "source": [
    "### 2.2 P-valor\n",
    "\n",
    "1. Calcule el p-valor y decida si rechazar o no la hipótesis nula.\n",
    "2. Interprete el resultado.\n",
    "3. Los dos grupos de nuestra muestra tienen tamaños muy distintos. ¿Esto afecta al tests?\n",
    "\n",
    "Links útiles:\n",
    "* [Test de hipótesis usando scipy](https://docs.scipy.org/doc/scipy/reference/generated/scipy.stats.ttest_ind.html)\n",
    "* [Test de Welch](http://daniellakens.blogspot.com/2015/01/always-use-welchs-t-test-instead-of.html)"
   ]
  },
  {
   "cell_type": "code",
   "execution_count": null,
   "metadata": {
    "colab": {
     "base_uri": "https://localhost:8080/"
    },
    "id": "O0oVhalYYIQx",
    "outputId": "87fb4e81-3c71-4b53-8f35-71f146660027"
   },
   "outputs": [
    {
     "name": "stdout",
     "output_type": "stream",
     "text": [
      "Como 1.5493391828059516e-22 < 0.05 rechazo H_0\n"
     ]
    }
   ],
   "source": [
    "print('Como', p, '<', alpha, 'rechazo H_0')"
   ]
  },
  {
   "cell_type": "markdown",
   "metadata": {},
   "source": [
    "Los resultados arrojaron **diferencias estadísticamente significativas entre los salarios neto promedios de hombres y personas de otros géneros**. Más específicamente, los hombres ganan en promedio significativamente más.\n",
    "Si bien en muestras pequeñas algunos test podrían ser sensibles al tamaño desigual de los grupos, dado el tamaño de ambos grupos en esta muestra el test no debería verse afectado por las diferencias"
   ]
  },
  {
   "cell_type": "markdown",
   "metadata": {
    "id": "8VxiQr5YrQYR"
   },
   "source": [
    "### [Opcional] 2.3 Potencia del test\n",
    "\n",
    "Nuestra muestra, ¿era lo suficientemente grande para detectar si existe o no una diferencia entre los grupos?\n",
    "\n",
    "1. Utilice la función `tt_ind_solve_power` para calcular el tamaño necesario de la muestra para un poder estadístico de 0.8, 0.9 y 0.95, asumiendo una significancia estadística de 0.05.\n",
    "2. ¿Cómo intepretan el poder estadístico de un test? Dado su conocimiento de dominio sobre los datos, ¿les parece que esta muestra es lo suficientemente grande para ser representativo de la tendencia general? ¿y para utilizarlo en un juicio penal contra una empresa XX por una causa de discriminación?\n",
    "\n",
    "[Documentación](https://www.statsmodels.org/stable/generated/statsmodels.stats.power.tt_ind_solve_power.html)\n",
    "\n",
    "NOTA: este análisis debería hacerse ANTES de recolectar los datos."
   ]
  },
  {
   "cell_type": "code",
   "execution_count": null,
   "metadata": {
    "colab": {
     "base_uri": "https://localhost:8080/"
    },
    "id": "_IiqGfo4t6Db",
    "outputId": "12550c4e-410b-4070-c43d-f153c92f727a"
   },
   "outputs": [
    {
     "name": "stderr",
     "output_type": "stream",
     "text": [
      "/usr/local/lib/python3.7/dist-packages/statsmodels/tools/_testing.py:19: FutureWarning: pandas.util.testing is deprecated. Use the functions in the public API at pandas.testing instead.\n",
      "  import pandas.util.testing as tm\n"
     ]
    }
   ],
   "source": [
    "from statsmodels.stats.power import tt_ind_solve_power"
   ]
  },
  {
   "cell_type": "code",
   "execution_count": null,
   "metadata": {
    "id": "LUQ7MA2Apj9x"
   },
   "outputs": [],
   "source": [
    "effect_size = (groupA.mean() - groupB.mean()) / groupB.std()\n",
    "# nobs1=None  - What we want to know\n",
    "alpha = 0.05\n",
    "ratio = len(groupB) / len(groupA)"
   ]
  },
  {
   "cell_type": "code",
   "execution_count": null,
   "metadata": {
    "colab": {
     "base_uri": "https://localhost:8080/"
    },
    "id": "cvHcpY-3ty8Q",
    "outputId": "6fe396fb-024b-4378-ed61-f8d75bbdccb2"
   },
   "outputs": [
    {
     "data": {
      "text/plain": [
       "492.8117730249087"
      ]
     },
     "execution_count": 15,
     "metadata": {
      "tags": []
     },
     "output_type": "execute_result"
    }
   ],
   "source": [
    "power = 0.95\n",
    "tt_ind_solve_power(effect_size=effect_size, alpha=alpha, power=power, ratio=ratio)"
   ]
  },
  {
   "cell_type": "markdown",
   "metadata": {
    "id": "useKMdPyMod5"
   },
   "source": [
    "## Ejercicio 3: Comunicación y visualización\n",
    "\n",
    "**Consigna:** Seleccionen un resultado que les parezca relevante a partir de alguno de los ejercicios del entregable. Diseñe e implemente una comunicación en base a este mensaje, en un archivo PDF.\n",
    "\n",
    "Elija las palabras y visualización más adecuada para que la comunicación sea entendible, efectiva y se dapte a UNA de las siguientes situaciones:\n",
    "\n",
    "1. Una sección en un artículo de difusión a presentar como parte de una organización sin fines de lucro.\n",
    "No más de 1 página A4 (o dos si los gráficos son muy grandes).\n",
    "  1. Ejemplo: Alguna de las secciones [Los ecosistemas de emprendimiento de América Latina y el Caribe frente al COVID-19: Impactos, necesidades y recomendaciones](https://publications.iadb.org/es/los-ecosistemas-de-emprendimiento-de-america-latina-y-el-caribe-frente-al-covid-19-impactos-necesidades-y-recomendaciones), por ejemplo la sección *2.2. Reacciones de los emprendedores*.\n",
    "  2. Ejemplo: Alguna de las secciones de [The state of gender pay gap in 2021](https://www.payscale.com/data/gender-pay-gap?tk=carousel-ps-rc-job)\n",
    "  3. Puntos clave: \n",
    "    1. Simpleza de los gráficos.\n",
    "    2. Comunicación en lenguaje simple a personas que no son necesariamente expertos de dominio.\n",
    "    2. Selección de UNA oración sobre la que se hace énfasis.\n",
    "    3. No es necesario que mencionen objetivos ni descripciones del conjunto de datos, se supone que eso ya estaría explicado en otras secciones del informe.\n",
    "\n",
    "2. Una publicación científica o reporte técnico interno. No más de una página A4:\n",
    "  2. Ejemplo: La sección de resultados de [IZA DP No. 12914: The Impact of a Minimum Wage Change on the Distribution of Wages and Household Income](https://www.iza.org/publications/dp/12914/the-impact-of-a-minimum-wage-change-on-the-distribution-of-wages-and-household-income).\n",
    "  2. Ejemplo: Alguna de las secciones de [Temporary reduction in daily global CO2 emissions during the COVID-19 forced confinement](https://www.nature.com/articles/s41558-020-0797-x)\n",
    "  3. Puntos clave:\n",
    "    3. Nivel de detalle técnico requerido. Es necesario justificar la validez del análisis.\n",
    "    4. La idea presentada puede ser más compleja. Pueden asumir que la audiencia tiene conocimiento técnico y va a analizar las visualizaciones en detalle. \n",
    "    5. Pueden presentar más en detalle las limitaciones del análisis (significancia estadística, etc.)\n",
    "    2. No es necesario que mencionen objetivos ni descripciones del conjunto de datos, se supone que eso ya estaría explicado en otras secciones del informe.\n",
    "\n",
    "3. Un tweet (o post de LinkedIn) para la cuenta de su empresa consultora que hace análisis de datos. El objetivo es promocionar un análisis de datos abiertos que van a incluir en su portfolio:\n",
    "  1. Ejemplo: [Comparación vacunas covid](https://twitter.com/infobeautiful/status/1381577746527236098?s=20)\n",
    "  2. Ejemplo: [Tweet del BID](https://twitter.com/el_BID/status/1388508583944507396?s=20). Lo valioso de este tweet es que usaron un único número para transmitir un mensaje. Puede ser algo así, o con un gráfico muy simple.\n",
    "  3. Ejemplo: [Cambio climático](https://twitter.com/UNFCCC/status/1387732156190011394?s=20) Es un muy buen ejemplo, excepto que el gráfico no se lee nada y hay que entrar a la publicación original.\n",
    "  3. Ejemplo: [¿Cuánto están los programadores en las empresas?](https://www.linkedin.com/posts/denis-rothman-0b034043_tech-career-work-activity-6793861923269054464-gS6y) (No verificamos la veracidad o seriedad de la fuente).\n",
    "  4. Puntos clave:\n",
    "    1. Su audiencia no va a mirar la visualización por más de unos segundos, y no tiene conocimiento técnico.\n",
    "  3. Tienen que incluir además una *breve* descripción de cómo obtuvieron los datos que están presentando, que no entraría en el tweet.\n"
   ]
  },
  {
   "cell_type": "code",
   "execution_count": null,
   "metadata": {
    "colab": {
     "base_uri": "https://localhost:8080/",
     "height": 646
    },
    "id": "XT6TxjZu5OKg",
    "outputId": "5432edf7-170a-45fb-a91f-560e07d7ca76"
   },
   "outputs": [
    {
     "name": "stdout",
     "output_type": "stream",
     "text": [
      "Media hombres: 92278.3955591694\n",
      "Media mujeres: 73247.93427841636\n",
      "Brecha: 20.622878373032183\n"
     ]
    },
    {
     "data": {
      "text/html": [
       "<div>\n",
       "<style scoped>\n",
       "    .dataframe tbody tr th:only-of-type {\n",
       "        vertical-align: middle;\n",
       "    }\n",
       "\n",
       "    .dataframe tbody tr th {\n",
       "        vertical-align: top;\n",
       "    }\n",
       "\n",
       "    .dataframe thead tr th {\n",
       "        text-align: left;\n",
       "    }\n",
       "\n",
       "    .dataframe thead tr:last-of-type th {\n",
       "        text-align: right;\n",
       "    }\n",
       "</style>\n",
       "<table border=\"1\" class=\"dataframe\">\n",
       "  <thead>\n",
       "    <tr>\n",
       "      <th></th>\n",
       "      <th></th>\n",
       "      <th colspan=\"2\" halign=\"left\">salary_monthly_NETO</th>\n",
       "    </tr>\n",
       "    <tr>\n",
       "      <th></th>\n",
       "      <th></th>\n",
       "      <th>mean</th>\n",
       "      <th>count</th>\n",
       "    </tr>\n",
       "    <tr>\n",
       "      <th>profile_years_experience</th>\n",
       "      <th>profile_gender</th>\n",
       "      <th></th>\n",
       "      <th></th>\n",
       "    </tr>\n",
       "  </thead>\n",
       "  <tbody>\n",
       "    <tr>\n",
       "      <th rowspan=\"2\" valign=\"top\">00-01</th>\n",
       "      <th>Hombre</th>\n",
       "      <td>47150.433857</td>\n",
       "      <td>490</td>\n",
       "    </tr>\n",
       "    <tr>\n",
       "      <th>Mujer</th>\n",
       "      <td>43401.033333</td>\n",
       "      <td>156</td>\n",
       "    </tr>\n",
       "    <tr>\n",
       "      <th rowspan=\"2\" valign=\"top\">02-03</th>\n",
       "      <th>Hombre</th>\n",
       "      <td>71813.128956</td>\n",
       "      <td>699</td>\n",
       "    </tr>\n",
       "    <tr>\n",
       "      <th>Mujer</th>\n",
       "      <td>66339.762679</td>\n",
       "      <td>168</td>\n",
       "    </tr>\n",
       "    <tr>\n",
       "      <th rowspan=\"2\" valign=\"top\">04-05</th>\n",
       "      <th>Hombre</th>\n",
       "      <td>89982.958167</td>\n",
       "      <td>693</td>\n",
       "    </tr>\n",
       "    <tr>\n",
       "      <th>Mujer</th>\n",
       "      <td>74319.343790</td>\n",
       "      <td>124</td>\n",
       "    </tr>\n",
       "    <tr>\n",
       "      <th rowspan=\"2\" valign=\"top\">06-07</th>\n",
       "      <th>Hombre</th>\n",
       "      <td>100417.687547</td>\n",
       "      <td>424</td>\n",
       "    </tr>\n",
       "    <tr>\n",
       "      <th>Mujer</th>\n",
       "      <td>82300.645632</td>\n",
       "      <td>87</td>\n",
       "    </tr>\n",
       "    <tr>\n",
       "      <th rowspan=\"2\" valign=\"top\">08-09</th>\n",
       "      <th>Hombre</th>\n",
       "      <td>106800.452599</td>\n",
       "      <td>354</td>\n",
       "    </tr>\n",
       "    <tr>\n",
       "      <th>Mujer</th>\n",
       "      <td>93208.275862</td>\n",
       "      <td>58</td>\n",
       "    </tr>\n",
       "    <tr>\n",
       "      <th rowspan=\"2\" valign=\"top\">10-11</th>\n",
       "      <th>Hombre</th>\n",
       "      <td>108356.251963</td>\n",
       "      <td>540</td>\n",
       "    </tr>\n",
       "    <tr>\n",
       "      <th>Mujer</th>\n",
       "      <td>93303.811875</td>\n",
       "      <td>80</td>\n",
       "    </tr>\n",
       "    <tr>\n",
       "      <th rowspan=\"2\" valign=\"top\">12-13</th>\n",
       "      <th>Hombre</th>\n",
       "      <td>115427.744181</td>\n",
       "      <td>342</td>\n",
       "    </tr>\n",
       "    <tr>\n",
       "      <th>Mujer</th>\n",
       "      <td>91028.810345</td>\n",
       "      <td>58</td>\n",
       "    </tr>\n",
       "    <tr>\n",
       "      <th rowspan=\"2\" valign=\"top\">14-15</th>\n",
       "      <th>Hombre</th>\n",
       "      <td>120449.105495</td>\n",
       "      <td>455</td>\n",
       "    </tr>\n",
       "    <tr>\n",
       "      <th>Mujer</th>\n",
       "      <td>94455.393462</td>\n",
       "      <td>52</td>\n",
       "    </tr>\n",
       "  </tbody>\n",
       "</table>\n",
       "</div>"
      ],
      "text/plain": [
       "                                        salary_monthly_NETO      \n",
       "                                                       mean count\n",
       "profile_years_experience profile_gender                          \n",
       "00-01                    Hombre                47150.433857   490\n",
       "                         Mujer                 43401.033333   156\n",
       "02-03                    Hombre                71813.128956   699\n",
       "                         Mujer                 66339.762679   168\n",
       "04-05                    Hombre                89982.958167   693\n",
       "                         Mujer                 74319.343790   124\n",
       "06-07                    Hombre               100417.687547   424\n",
       "                         Mujer                 82300.645632    87\n",
       "08-09                    Hombre               106800.452599   354\n",
       "                         Mujer                 93208.275862    58\n",
       "10-11                    Hombre               108356.251963   540\n",
       "                         Mujer                 93303.811875    80\n",
       "12-13                    Hombre               115427.744181   342\n",
       "                         Mujer                 91028.810345    58\n",
       "14-15                    Hombre               120449.105495   455\n",
       "                         Mujer                 94455.393462    52"
      ]
     },
     "execution_count": 19,
     "metadata": {
      "tags": []
     },
     "output_type": "execute_result"
    }
   ],
   "source": [
    "# Filtramos los datos que nos interesan\n",
    "\n",
    "min_limit = 10000\n",
    "# saco muy pocos outliers porque ya tenia pocos datos en las mujeres\n",
    "max_limit_men = df[df.profile_gender == 'Hombre'].salary_monthly_NETO.quantile(.995)\n",
    "max_limit_women = df[df.profile_gender == 'Mujer'].salary_monthly_NETO.quantile(.995)\n",
    "\n",
    "less_than_15exp = df[df['profile_years_experience']<16]\n",
    "less_than_15exp = less_than_15exp[less_than_15exp.salary_monthly_NETO > min_limit]\n",
    "less_than_15exp = less_than_15exp[((less_than_15exp.salary_monthly_NETO < max_limit_men) & (less_than_15exp.profile_gender == 'Hombre')) | \n",
    "                                  ((less_than_15exp.salary_monthly_NETO < max_limit_women)  & (less_than_15exp.profile_gender == 'Mujer'))]\n",
    "less_than_15exp = less_than_15exp[~(less_than_15exp['profile_gender']=='Otros')].reset_index()\n",
    "less_than_15exp = less_than_15exp[['profile_gender', 'salary_monthly_NETO', 'profile_years_experience']]\n",
    "\n",
    "# Calculamos la brecha salarial promedio\n",
    "mean_men=less_than_15exp[less_than_15exp['profile_gender']=='Hombre'].mean(); print('Media hombres:', mean_men[0])\n",
    "mean_women=less_than_15exp[less_than_15exp['profile_gender']=='Mujer'].mean() ; print('Media mujeres:', mean_women[0])\n",
    "brecha = ((mean_men-mean_women)/mean_men)*100 ; print('Brecha:', brecha[0])\n",
    "\n",
    "# Agrupamos los años de experiencia  cada dos años\n",
    "exp_key = less_than_15exp.profile_years_experience.unique()  # exp va a ser un np.ndarray\n",
    "exp_value = np.rint((exp_key/2)-0.25)\n",
    "new = dict(zip(exp_key, exp_value))\n",
    "less_than_15exp.profile_years_experience.replace(new, inplace=True)\n",
    "\n",
    "key = less_than_15exp.profile_years_experience.unique()\n",
    "key.sort()\n",
    "value = ['00-01', '02-03', '04-05', '06-07', '08-09', '10-11', '12-13', '14-15']\n",
    "new = dict(zip(key, value))\n",
    "less_than_15exp.profile_years_experience.replace(new, inplace=True)\n",
    "\n",
    "# Agrupamos y calculamos el promedio de hombres y mujeres en cada rango de años de experiencia\n",
    "grouped = less_than_15exp.groupby(['profile_years_experience','profile_gender']).agg(['mean','count'])\n",
    "grouped"
   ]
  },
  {
   "cell_type": "code",
   "execution_count": null,
   "metadata": {
    "colab": {
     "base_uri": "https://localhost:8080/",
     "height": 463
    },
    "id": "YPzkgewY5R99",
    "outputId": "6cc72e29-9795-4f35-c564-b766fc592b5d"
   },
   "outputs": [
    {
     "data": {
      "image/png": "[encoded data removed]",
      "text/plain": [
       "<Figure size 864x432 with 1 Axes>"
      ]
     },
     "metadata": {
      "needs_background": "light",
      "tags": []
     },
     "output_type": "display_data"
    }
   ],
   "source": [
    "# Previsualizacion\n",
    "labelsy = ['', '25k', '50k', '75k', '100k']\n",
    "labelsx = ['0-1', '2-3', '4-5', '6-7', '8-9', '10-11', '12-13', '14-15']\n",
    "palette = {'Hombre':'#2980B9', 'Mujer':'#E74C3C'}\n",
    "plt.rc('legend', frameon=False)\n",
    "order = value\n",
    "\n",
    "g = sns.catplot(\n",
    "    data=less_than_15exp, kind=\"bar\",\n",
    "    x='profile_years_experience', y='salary_monthly_NETO', hue=\"profile_gender\",\n",
    "    ci=None, height=6, aspect=2, saturation=0.7, palette=palette, legend_out=False, order = order)\n",
    "\n",
    "g.despine(left=True)\n",
    "g.set_axis_labels(\"Años de experiencia\", \"Salario promedio\")\n",
    "g.set(yticks=[0, 25000, 50000, 75000, 100000])\n",
    "g.set_yticklabels(labelsy)\n",
    "g.set_xticklabels(labelsx)\n",
    "g.legend.set_title(\"Género\")\n",
    "g.legend.set_bbox_to_anchor((.22, 1))"
   ]
  }
 ],
 "metadata": {
  "colab": {
   "collapsed_sections": [],
   "name": "Copia_de_Entregable_Parte_2 (1).ipynb",
   "provenance": [],
   "toc_visible": true
  },
  "kernelspec": {
   "display_name": "Python 3",
   "language": "python",
   "name": "python3"
  },
  "language_info": {
   "codemirror_mode": {
    "name": "ipython",
    "version": 3
   },
   "file_extension": ".py",
   "mimetype": "text/x-python",
   "name": "python",
   "nbconvert_exporter": "python",
   "pygments_lexer": "ipython3",
   "version": "3.8.5"
  }
 },
 "nbformat": 4,
 "nbformat_minor": 1
}
